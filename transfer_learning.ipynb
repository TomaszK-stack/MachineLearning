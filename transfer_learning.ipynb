{
 "cells": [
  {
   "cell_type": "code",
   "execution_count": 153,
   "id": "05981243",
   "metadata": {},
   "outputs": [],
   "source": [
    "from tensorflow.keras.applications.vgg16 import VGG16\n",
    "import pandas as pd \n",
    "import os\n",
    "import cv2\n",
    "import numpy as np\n",
    "from tensorflow.keras import Sequential\n",
    "import tensorflow_hub as hub\n",
    "import matplotlib.pyplot as plt\n",
    "import tensorflow as tf"
   ]
  },
  {
   "cell_type": "code",
   "execution_count": 62,
   "id": "1392a30d",
   "metadata": {},
   "outputs": [
    {
     "name": "stdout",
     "output_type": "stream",
     "text": [
      "Collecting tensorflow_hub\n",
      "  Downloading tensorflow_hub-0.12.0-py2.py3-none-any.whl (108 kB)\n",
      "Requirement already satisfied: protobuf>=3.8.0 in c:\\users\\user\\pycharmprojects\\tensorflow\\venv\\lib\\site-packages (from tensorflow_hub) (3.19.1)\n",
      "Requirement already satisfied: numpy>=1.12.0 in c:\\users\\user\\pycharmprojects\\tensorflow\\venv\\lib\\site-packages (from tensorflow_hub) (1.22.0)\n",
      "Installing collected packages: tensorflow-hub\n",
      "Successfully installed tensorflow-hub-0.12.0\n"
     ]
    }
   ],
   "source": [
    "!pip install tensorflow_hub"
   ]
  },
  {
   "cell_type": "code",
   "execution_count": null,
   "id": "e4aa1d3b",
   "metadata": {},
   "outputs": [],
   "source": []
  },
  {
   "cell_type": "code",
   "execution_count": 11,
   "id": "f7304af2",
   "metadata": {},
   "outputs": [],
   "source": [
    "directory = 'E:\\\\VOCtrainval_06-Nov-2007\\\\VOCdevkit\\\\VOC2007\\\\ImageSets\\Main'\n",
    "tab = []\n",
    "with open(os.path.join(directory,'aeroplane_train.txt'),'r') as plik:\n",
    "    for line in plik:\n",
    "        read = line.split()\n",
    "        tab.append(read[0])\n",
    "        \n",
    "        \n",
    "        \n",
    "    \n",
    "    \n",
    "    "
   ]
  },
  {
   "cell_type": "code",
   "execution_count": 37,
   "id": "15a29cac",
   "metadata": {},
   "outputs": [],
   "source": [
    "directory = 'E:\\\\VOCtrainval_06-Nov-2007\\\\VOCdevkit\\\\VOC2007\\\\ImageSets\\Main'\n",
    "tab = []\n",
    "with open(os.path.join(directory,'aeroplane_val.txt'),'r') as plik:\n",
    "    for line in plik:\n",
    "        read = line.split()\n",
    "        tab.append(read[0])\n",
    "        \n",
    "data_val = pd.DataFrame(tab)"
   ]
  },
  {
   "cell_type": "code",
   "execution_count": 15,
   "id": "92d2f742",
   "metadata": {},
   "outputs": [],
   "source": [
    "data_train = pd.DataFrame(tab)"
   ]
  },
  {
   "cell_type": "code",
   "execution_count": 35,
   "id": "56c24b78",
   "metadata": {},
   "outputs": [],
   "source": [
    "string = 'val'\n",
    "column = []\n",
    "for direct in os.listdir(directory):\n",
    "    if string not in direct and direct != 'train.txt' :\n",
    "        \n",
    "        \n",
    "        with open(os.path.join(directory,direct),'r') as plik:\n",
    "              for line in plik:\n",
    "                read = line.split()\n",
    "                column.append(read[1])\n",
    "                \n",
    "        data_train[direct] = column\n",
    "        column = []\n",
    "          \n",
    "        \n",
    "        "
   ]
  },
  {
   "cell_type": "code",
   "execution_count": 36,
   "id": "eec17699",
   "metadata": {},
   "outputs": [
    {
     "data": {
      "text/html": [
       "<div>\n",
       "<style scoped>\n",
       "    .dataframe tbody tr th:only-of-type {\n",
       "        vertical-align: middle;\n",
       "    }\n",
       "\n",
       "    .dataframe tbody tr th {\n",
       "        vertical-align: top;\n",
       "    }\n",
       "\n",
       "    .dataframe thead th {\n",
       "        text-align: right;\n",
       "    }\n",
       "</style>\n",
       "<table border=\"1\" class=\"dataframe\">\n",
       "  <thead>\n",
       "    <tr style=\"text-align: right;\">\n",
       "      <th></th>\n",
       "      <th>0</th>\n",
       "      <th>aeroplane_train.txt</th>\n",
       "      <th>bicycle_train.txt</th>\n",
       "      <th>bird_train.txt</th>\n",
       "      <th>boat_train.txt</th>\n",
       "      <th>bottle_train.txt</th>\n",
       "      <th>bus_train.txt</th>\n",
       "      <th>car_train.txt</th>\n",
       "      <th>cat_train.txt</th>\n",
       "      <th>chair_train.txt</th>\n",
       "      <th>...</th>\n",
       "      <th>diningtable_train.txt</th>\n",
       "      <th>dog_train.txt</th>\n",
       "      <th>horse_train.txt</th>\n",
       "      <th>motorbike_train.txt</th>\n",
       "      <th>person_train.txt</th>\n",
       "      <th>pottedplant_train.txt</th>\n",
       "      <th>sheep_train.txt</th>\n",
       "      <th>sofa_train.txt</th>\n",
       "      <th>train_train.txt</th>\n",
       "      <th>tvmonitor_train.txt</th>\n",
       "    </tr>\n",
       "  </thead>\n",
       "  <tbody>\n",
       "    <tr>\n",
       "      <th>0</th>\n",
       "      <td>000012</td>\n",
       "      <td>-1</td>\n",
       "      <td>-1</td>\n",
       "      <td>-1</td>\n",
       "      <td>-1</td>\n",
       "      <td>-1</td>\n",
       "      <td>-1</td>\n",
       "      <td>1</td>\n",
       "      <td>-1</td>\n",
       "      <td>-1</td>\n",
       "      <td>...</td>\n",
       "      <td>-1</td>\n",
       "      <td>-1</td>\n",
       "      <td>-1</td>\n",
       "      <td>-1</td>\n",
       "      <td>-1</td>\n",
       "      <td>-1</td>\n",
       "      <td>-1</td>\n",
       "      <td>-1</td>\n",
       "      <td>-1</td>\n",
       "      <td>-1</td>\n",
       "    </tr>\n",
       "    <tr>\n",
       "      <th>1</th>\n",
       "      <td>000017</td>\n",
       "      <td>-1</td>\n",
       "      <td>-1</td>\n",
       "      <td>-1</td>\n",
       "      <td>-1</td>\n",
       "      <td>-1</td>\n",
       "      <td>-1</td>\n",
       "      <td>-1</td>\n",
       "      <td>-1</td>\n",
       "      <td>-1</td>\n",
       "      <td>...</td>\n",
       "      <td>-1</td>\n",
       "      <td>-1</td>\n",
       "      <td>1</td>\n",
       "      <td>-1</td>\n",
       "      <td>1</td>\n",
       "      <td>-1</td>\n",
       "      <td>-1</td>\n",
       "      <td>-1</td>\n",
       "      <td>-1</td>\n",
       "      <td>-1</td>\n",
       "    </tr>\n",
       "    <tr>\n",
       "      <th>2</th>\n",
       "      <td>000023</td>\n",
       "      <td>-1</td>\n",
       "      <td>1</td>\n",
       "      <td>-1</td>\n",
       "      <td>-1</td>\n",
       "      <td>-1</td>\n",
       "      <td>-1</td>\n",
       "      <td>-1</td>\n",
       "      <td>-1</td>\n",
       "      <td>-1</td>\n",
       "      <td>...</td>\n",
       "      <td>-1</td>\n",
       "      <td>-1</td>\n",
       "      <td>-1</td>\n",
       "      <td>-1</td>\n",
       "      <td>1</td>\n",
       "      <td>-1</td>\n",
       "      <td>-1</td>\n",
       "      <td>-1</td>\n",
       "      <td>-1</td>\n",
       "      <td>-1</td>\n",
       "    </tr>\n",
       "    <tr>\n",
       "      <th>3</th>\n",
       "      <td>000026</td>\n",
       "      <td>-1</td>\n",
       "      <td>-1</td>\n",
       "      <td>-1</td>\n",
       "      <td>-1</td>\n",
       "      <td>-1</td>\n",
       "      <td>-1</td>\n",
       "      <td>1</td>\n",
       "      <td>-1</td>\n",
       "      <td>-1</td>\n",
       "      <td>...</td>\n",
       "      <td>-1</td>\n",
       "      <td>-1</td>\n",
       "      <td>-1</td>\n",
       "      <td>-1</td>\n",
       "      <td>-1</td>\n",
       "      <td>-1</td>\n",
       "      <td>-1</td>\n",
       "      <td>-1</td>\n",
       "      <td>-1</td>\n",
       "      <td>-1</td>\n",
       "    </tr>\n",
       "    <tr>\n",
       "      <th>4</th>\n",
       "      <td>000032</td>\n",
       "      <td>1</td>\n",
       "      <td>-1</td>\n",
       "      <td>-1</td>\n",
       "      <td>-1</td>\n",
       "      <td>-1</td>\n",
       "      <td>-1</td>\n",
       "      <td>-1</td>\n",
       "      <td>-1</td>\n",
       "      <td>-1</td>\n",
       "      <td>...</td>\n",
       "      <td>-1</td>\n",
       "      <td>-1</td>\n",
       "      <td>-1</td>\n",
       "      <td>-1</td>\n",
       "      <td>1</td>\n",
       "      <td>-1</td>\n",
       "      <td>-1</td>\n",
       "      <td>-1</td>\n",
       "      <td>-1</td>\n",
       "      <td>-1</td>\n",
       "    </tr>\n",
       "    <tr>\n",
       "      <th>...</th>\n",
       "      <td>...</td>\n",
       "      <td>...</td>\n",
       "      <td>...</td>\n",
       "      <td>...</td>\n",
       "      <td>...</td>\n",
       "      <td>...</td>\n",
       "      <td>...</td>\n",
       "      <td>...</td>\n",
       "      <td>...</td>\n",
       "      <td>...</td>\n",
       "      <td>...</td>\n",
       "      <td>...</td>\n",
       "      <td>...</td>\n",
       "      <td>...</td>\n",
       "      <td>...</td>\n",
       "      <td>...</td>\n",
       "      <td>...</td>\n",
       "      <td>...</td>\n",
       "      <td>...</td>\n",
       "      <td>...</td>\n",
       "      <td>...</td>\n",
       "    </tr>\n",
       "    <tr>\n",
       "      <th>2496</th>\n",
       "      <td>009944</td>\n",
       "      <td>-1</td>\n",
       "      <td>-1</td>\n",
       "      <td>-1</td>\n",
       "      <td>-1</td>\n",
       "      <td>-1</td>\n",
       "      <td>-1</td>\n",
       "      <td>-1</td>\n",
       "      <td>-1</td>\n",
       "      <td>-1</td>\n",
       "      <td>...</td>\n",
       "      <td>-1</td>\n",
       "      <td>-1</td>\n",
       "      <td>-1</td>\n",
       "      <td>1</td>\n",
       "      <td>1</td>\n",
       "      <td>-1</td>\n",
       "      <td>-1</td>\n",
       "      <td>-1</td>\n",
       "      <td>-1</td>\n",
       "      <td>-1</td>\n",
       "    </tr>\n",
       "    <tr>\n",
       "      <th>2497</th>\n",
       "      <td>009945</td>\n",
       "      <td>-1</td>\n",
       "      <td>-1</td>\n",
       "      <td>-1</td>\n",
       "      <td>-1</td>\n",
       "      <td>-1</td>\n",
       "      <td>-1</td>\n",
       "      <td>-1</td>\n",
       "      <td>-1</td>\n",
       "      <td>-1</td>\n",
       "      <td>...</td>\n",
       "      <td>-1</td>\n",
       "      <td>-1</td>\n",
       "      <td>-1</td>\n",
       "      <td>-1</td>\n",
       "      <td>-1</td>\n",
       "      <td>-1</td>\n",
       "      <td>1</td>\n",
       "      <td>-1</td>\n",
       "      <td>-1</td>\n",
       "      <td>-1</td>\n",
       "    </tr>\n",
       "    <tr>\n",
       "      <th>2498</th>\n",
       "      <td>009949</td>\n",
       "      <td>-1</td>\n",
       "      <td>-1</td>\n",
       "      <td>-1</td>\n",
       "      <td>-1</td>\n",
       "      <td>-1</td>\n",
       "      <td>-1</td>\n",
       "      <td>-1</td>\n",
       "      <td>-1</td>\n",
       "      <td>1</td>\n",
       "      <td>...</td>\n",
       "      <td>-1</td>\n",
       "      <td>-1</td>\n",
       "      <td>-1</td>\n",
       "      <td>-1</td>\n",
       "      <td>1</td>\n",
       "      <td>-1</td>\n",
       "      <td>-1</td>\n",
       "      <td>1</td>\n",
       "      <td>-1</td>\n",
       "      <td>-1</td>\n",
       "    </tr>\n",
       "    <tr>\n",
       "      <th>2499</th>\n",
       "      <td>009959</td>\n",
       "      <td>-1</td>\n",
       "      <td>-1</td>\n",
       "      <td>-1</td>\n",
       "      <td>-1</td>\n",
       "      <td>-1</td>\n",
       "      <td>-1</td>\n",
       "      <td>1</td>\n",
       "      <td>-1</td>\n",
       "      <td>-1</td>\n",
       "      <td>...</td>\n",
       "      <td>-1</td>\n",
       "      <td>-1</td>\n",
       "      <td>-1</td>\n",
       "      <td>-1</td>\n",
       "      <td>-1</td>\n",
       "      <td>-1</td>\n",
       "      <td>-1</td>\n",
       "      <td>-1</td>\n",
       "      <td>-1</td>\n",
       "      <td>-1</td>\n",
       "    </tr>\n",
       "    <tr>\n",
       "      <th>2500</th>\n",
       "      <td>009961</td>\n",
       "      <td>-1</td>\n",
       "      <td>-1</td>\n",
       "      <td>-1</td>\n",
       "      <td>-1</td>\n",
       "      <td>-1</td>\n",
       "      <td>-1</td>\n",
       "      <td>-1</td>\n",
       "      <td>-1</td>\n",
       "      <td>-1</td>\n",
       "      <td>...</td>\n",
       "      <td>-1</td>\n",
       "      <td>1</td>\n",
       "      <td>-1</td>\n",
       "      <td>-1</td>\n",
       "      <td>-1</td>\n",
       "      <td>-1</td>\n",
       "      <td>-1</td>\n",
       "      <td>-1</td>\n",
       "      <td>-1</td>\n",
       "      <td>-1</td>\n",
       "    </tr>\n",
       "  </tbody>\n",
       "</table>\n",
       "<p>2501 rows × 21 columns</p>\n",
       "</div>"
      ],
      "text/plain": [
       "           0 aeroplane_train.txt bicycle_train.txt bird_train.txt  \\\n",
       "0     000012                  -1                -1             -1   \n",
       "1     000017                  -1                -1             -1   \n",
       "2     000023                  -1                 1             -1   \n",
       "3     000026                  -1                -1             -1   \n",
       "4     000032                   1                -1             -1   \n",
       "...      ...                 ...               ...            ...   \n",
       "2496  009944                  -1                -1             -1   \n",
       "2497  009945                  -1                -1             -1   \n",
       "2498  009949                  -1                -1             -1   \n",
       "2499  009959                  -1                -1             -1   \n",
       "2500  009961                  -1                -1             -1   \n",
       "\n",
       "     boat_train.txt bottle_train.txt bus_train.txt car_train.txt  \\\n",
       "0                -1               -1            -1             1   \n",
       "1                -1               -1            -1            -1   \n",
       "2                -1               -1            -1            -1   \n",
       "3                -1               -1            -1             1   \n",
       "4                -1               -1            -1            -1   \n",
       "...             ...              ...           ...           ...   \n",
       "2496             -1               -1            -1            -1   \n",
       "2497             -1               -1            -1            -1   \n",
       "2498             -1               -1            -1            -1   \n",
       "2499             -1               -1            -1             1   \n",
       "2500             -1               -1            -1            -1   \n",
       "\n",
       "     cat_train.txt chair_train.txt  ... diningtable_train.txt dog_train.txt  \\\n",
       "0               -1              -1  ...                    -1            -1   \n",
       "1               -1              -1  ...                    -1            -1   \n",
       "2               -1              -1  ...                    -1            -1   \n",
       "3               -1              -1  ...                    -1            -1   \n",
       "4               -1              -1  ...                    -1            -1   \n",
       "...            ...             ...  ...                   ...           ...   \n",
       "2496            -1              -1  ...                    -1            -1   \n",
       "2497            -1              -1  ...                    -1            -1   \n",
       "2498            -1               1  ...                    -1            -1   \n",
       "2499            -1              -1  ...                    -1            -1   \n",
       "2500            -1              -1  ...                    -1             1   \n",
       "\n",
       "     horse_train.txt motorbike_train.txt person_train.txt  \\\n",
       "0                 -1                  -1               -1   \n",
       "1                  1                  -1                1   \n",
       "2                 -1                  -1                1   \n",
       "3                 -1                  -1               -1   \n",
       "4                 -1                  -1                1   \n",
       "...              ...                 ...              ...   \n",
       "2496              -1                   1                1   \n",
       "2497              -1                  -1               -1   \n",
       "2498              -1                  -1                1   \n",
       "2499              -1                  -1               -1   \n",
       "2500              -1                  -1               -1   \n",
       "\n",
       "     pottedplant_train.txt sheep_train.txt sofa_train.txt train_train.txt  \\\n",
       "0                       -1              -1             -1              -1   \n",
       "1                       -1              -1             -1              -1   \n",
       "2                       -1              -1             -1              -1   \n",
       "3                       -1              -1             -1              -1   \n",
       "4                       -1              -1             -1              -1   \n",
       "...                    ...             ...            ...             ...   \n",
       "2496                    -1              -1             -1              -1   \n",
       "2497                    -1               1             -1              -1   \n",
       "2498                    -1              -1              1              -1   \n",
       "2499                    -1              -1             -1              -1   \n",
       "2500                    -1              -1             -1              -1   \n",
       "\n",
       "     tvmonitor_train.txt  \n",
       "0                     -1  \n",
       "1                     -1  \n",
       "2                     -1  \n",
       "3                     -1  \n",
       "4                     -1  \n",
       "...                  ...  \n",
       "2496                  -1  \n",
       "2497                  -1  \n",
       "2498                  -1  \n",
       "2499                  -1  \n",
       "2500                  -1  \n",
       "\n",
       "[2501 rows x 21 columns]"
      ]
     },
     "execution_count": 36,
     "metadata": {},
     "output_type": "execute_result"
    }
   ],
   "source": [
    "# number = 0\n",
    "# for direct in os.listdir(directory):\n",
    "#     if string not in direct:\n",
    "#         with open(os.path.join(directory,direct),'r') as plik:\n",
    "            \n",
    "            \n",
    "#               for line in plik:\n",
    "#                     read = line.split()\n",
    "#                     if len(read) < 2:\n",
    "#                         print(direct,read[0])\n",
    "                        \n",
    "data_train                    \n",
    "        "
   ]
  },
  {
   "cell_type": "code",
   "execution_count": 38,
   "id": "55e6ac1c",
   "metadata": {},
   "outputs": [],
   "source": [
    "string = 'train'\n",
    "column = []\n",
    "for direct in os.listdir(directory):\n",
    "    if string not in direct and direct != 'val.txt' :\n",
    "        \n",
    "        \n",
    "        with open(os.path.join(directory,direct),'r') as plik:\n",
    "              for line in plik:\n",
    "                read = line.split()\n",
    "                column.append(read[1])\n",
    "                \n",
    "        data_val[direct] = column\n",
    "        column = []\n",
    "          "
   ]
  },
  {
   "cell_type": "code",
   "execution_count": 54,
   "id": "d37287d3",
   "metadata": {},
   "outputs": [
    {
     "data": {
      "text/plain": [
       "'000012.jpg'"
      ]
     },
     "execution_count": 54,
     "metadata": {},
     "output_type": "execute_result"
    }
   ],
   "source": [
    "# os.path.join('E:\\\\VOCtrainval_06-Nov-2007\\\\VOCdevkit\\\\VOC2007\\\\JPEGImages',data_train[0][0],'.jpg')\n",
    "string = data[0][0] + '.jpg'\n",
    "string"
   ]
  },
  {
   "cell_type": "code",
   "execution_count": 80,
   "id": "5a1ae910",
   "metadata": {},
   "outputs": [],
   "source": [
    "features_train = []\n",
    "image_dir = 'E:\\\\VOCtrainval_06-Nov-2007\\\\VOCdevkit\\\\VOC2007\\\\JPEGImages'\n",
    "for x in data_train[0]:\n",
    "    image_jpg = x + '.jpg'\n",
    "    image_path = os.path.join(image_dir,image_jpg)\n",
    "    image = cv2.imread(image_path)\n",
    "    image = cv2.cvtColor(image,cv2.COLOR_BGR2RGB)\n",
    "    image = cv2.resize(image,(224,224))\n",
    "    image = np.array(image, dtype = np.float32)\n",
    "    features_train.append(image)\n",
    "    "
   ]
  },
  {
   "cell_type": "code",
   "execution_count": 112,
   "id": "2d1075dd",
   "metadata": {},
   "outputs": [],
   "source": [
    "features_train = np.array(features_train)\n",
    "features_train[0] = features_train[0] / 255"
   ]
  },
  {
   "cell_type": "code",
   "execution_count": 114,
   "id": "70c91e31",
   "metadata": {},
   "outputs": [
    {
     "data": {
      "text/plain": [
       "(2501, 224, 224, 3)"
      ]
     },
     "execution_count": 114,
     "metadata": {},
     "output_type": "execute_result"
    }
   ],
   "source": [
    "features_train.shape\n"
   ]
  },
  {
   "cell_type": "code",
   "execution_count": 149,
   "id": "0a63342e",
   "metadata": {},
   "outputs": [],
   "source": [
    "labels_train = np.array(data_train.drop([0],axis = 1))"
   ]
  },
  {
   "cell_type": "code",
   "execution_count": 150,
   "id": "7ad8357d",
   "metadata": {},
   "outputs": [
    {
     "data": {
      "text/plain": [
       "(2501, 20)"
      ]
     },
     "execution_count": 150,
     "metadata": {},
     "output_type": "execute_result"
    }
   ],
   "source": [
    "labels_train.shape"
   ]
  },
  {
   "cell_type": "code",
   "execution_count": 151,
   "id": "701cd9de",
   "metadata": {},
   "outputs": [],
   "source": [
    "\n",
    "    \n",
    "labels_train = np.where(labels_train == '-1',0,labels_train)"
   ]
  },
  {
   "cell_type": "code",
   "execution_count": 152,
   "id": "24539bab",
   "metadata": {},
   "outputs": [],
   "source": [
    "labels_train = labels_train.astype(np.float64)"
   ]
  },
  {
   "cell_type": "code",
   "execution_count": null,
   "id": "13d2fdcf",
   "metadata": {},
   "outputs": [],
   "source": [
    "# feature_extractor_model = \"https://tfhub.dev/google/tf2-preview/mobilenet_v2/feature_vector/4\"\n",
    "# image_size = (224,224)\n",
    "# classifier = tf.keras.Sequential([\n",
    "#     hub.KerasLayer(feature_extractor_model, input_shape=IMAGE_SHAPE+(3,),trainable = False )\n",
    "# ])\n",
    "# model = Sequential([\n",
    "#     classifier,\n",
    "#     tf.keras.layers.Dense()\n",
    "    \n",
    "# ])\n"
   ]
  },
  {
   "cell_type": "code",
   "execution_count": 154,
   "id": "241b2e19",
   "metadata": {},
   "outputs": [],
   "source": [
    "feature_extractor_url = \"https://tfhub.dev/google/imagenet/mobilenet_v2_100_224/feature_vector/4\"\n",
    "feature_extractor_layer = hub.KerasLayer(feature_extractor_url,\n",
    "                                         input_shape=(224,224,3))"
   ]
  },
  {
   "cell_type": "code",
   "execution_count": 155,
   "id": "6f4f97bb",
   "metadata": {},
   "outputs": [],
   "source": [
    "feature_extractor_layer.trainable = False\n"
   ]
  },
  {
   "cell_type": "code",
   "execution_count": 157,
   "id": "e8e7cb74",
   "metadata": {},
   "outputs": [],
   "source": [
    "model = tf.keras.Sequential([\n",
    "    feature_extractor_layer,\n",
    "    tf.keras.layers.Dense(1024, activation='relu', name='hidden_layer'),\n",
    "    tf.keras.layers.Dense(20, activation='sigmoid', name='output')\n",
    "])\n"
   ]
  },
  {
   "cell_type": "code",
   "execution_count": 159,
   "id": "be7bd619",
   "metadata": {},
   "outputs": [
    {
     "name": "stdout",
     "output_type": "stream",
     "text": [
      "Model: \"sequential_8\"\n",
      "_________________________________________________________________\n",
      " Layer (type)                Output Shape              Param #   \n",
      "=================================================================\n",
      " keras_layer_8 (KerasLayer)  (None, 1280)              2257984   \n",
      "                                                                 \n",
      " hidden_layer (Dense)        (None, 1024)              1311744   \n",
      "                                                                 \n",
      " output (Dense)              (None, 20)                20500     \n",
      "                                                                 \n",
      "=================================================================\n",
      "Total params: 3,590,228\n",
      "Trainable params: 1,332,244\n",
      "Non-trainable params: 2,257,984\n",
      "_________________________________________________________________\n"
     ]
    }
   ],
   "source": [
    "model.summary()"
   ]
  },
  {
   "cell_type": "code",
   "execution_count": 161,
   "id": "30d320d4",
   "metadata": {},
   "outputs": [],
   "source": [
    "model.compile(\n",
    "  optimizer=tf.keras.optimizers.Adam(),\n",
    "  loss='binary_crossentropy',\n",
    "  metrics=['accuracy'])"
   ]
  },
  {
   "cell_type": "code",
   "execution_count": 162,
   "id": "daecaa0a",
   "metadata": {},
   "outputs": [
    {
     "name": "stdout",
     "output_type": "stream",
     "text": [
      "Epoch 1/10\n",
      "79/79 [==============================] - 128s 2s/step - loss: 0.2392 - accuracy: 0.2055\n",
      "Epoch 2/10\n",
      "79/79 [==============================] - 117s 1s/step - loss: 0.1936 - accuracy: 0.2635\n",
      "Epoch 3/10\n",
      "79/79 [==============================] - 117s 1s/step - loss: 0.1797 - accuracy: 0.3023\n",
      "Epoch 4/10\n",
      "79/79 [==============================] - 118s 1s/step - loss: 0.1681 - accuracy: 0.3423\n",
      "Epoch 5/10\n",
      "79/79 [==============================] - 118s 1s/step - loss: 0.1597 - accuracy: 0.3758\n",
      "Epoch 6/10\n",
      "79/79 [==============================] - 118s 1s/step - loss: 0.1514 - accuracy: 0.4126\n",
      "Epoch 7/10\n",
      "79/79 [==============================] - 117s 1s/step - loss: 0.1474 - accuracy: 0.4242\n",
      "Epoch 8/10\n",
      "79/79 [==============================] - 117s 1s/step - loss: 0.1378 - accuracy: 0.4534\n",
      "Epoch 9/10\n",
      "79/79 [==============================] - 117s 1s/step - loss: 0.1342 - accuracy: 0.4678\n",
      "Epoch 10/10\n",
      "79/79 [==============================] - 117s 1s/step - loss: 0.1254 - accuracy: 0.5054\n"
     ]
    },
    {
     "data": {
      "text/plain": [
       "<keras.callbacks.History at 0x1bbc6650f70>"
      ]
     },
     "execution_count": 162,
     "metadata": {},
     "output_type": "execute_result"
    }
   ],
   "source": [
    "model.fit(x= features_train,y=labels_train,epochs = 10)"
   ]
  },
  {
   "cell_type": "code",
   "execution_count": 225,
   "id": "73e77c8b",
   "metadata": {},
   "outputs": [],
   "source": [
    "x = features_train[1321]/255"
   ]
  },
  {
   "cell_type": "code",
   "execution_count": 226,
   "id": "6c5839c5",
   "metadata": {},
   "outputs": [],
   "source": [
    "z = model.predict(x[np.newaxis,...])"
   ]
  },
  {
   "cell_type": "code",
   "execution_count": 227,
   "id": "0499431c",
   "metadata": {},
   "outputs": [
    {
     "data": {
      "text/plain": [
       "<matplotlib.image.AxesImage at 0x1bc8cfe63a0>"
      ]
     },
     "execution_count": 227,
     "metadata": {},
     "output_type": "execute_result"
    },
    {
     "data": {
      "image/png": "[encoded data removed]",
      "text/plain": [
       "<Figure size 288x288 with 1 Axes>"
      ]
     },
     "metadata": {
      "needs_background": "light"
     },
     "output_type": "display_data"
    }
   ],
   "source": [
    "plt.matshow(x)"
   ]
  },
  {
   "cell_type": "code",
   "execution_count": 228,
   "id": "2e4021df",
   "metadata": {},
   "outputs": [
    {
     "data": {
      "text/plain": [
       "0"
      ]
     },
     "execution_count": 228,
     "metadata": {},
     "output_type": "execute_result"
    }
   ],
   "source": [
    "np.argmax(z)"
   ]
  },
  {
   "cell_type": "code",
   "execution_count": 229,
   "id": "2918dcf8",
   "metadata": {},
   "outputs": [
    {
     "data": {
      "text/plain": [
       "array([[0., 0., 0., ..., 0., 0., 0.],\n",
       "       [0., 0., 0., ..., 0., 0., 0.],\n",
       "       [0., 1., 0., ..., 0., 0., 0.],\n",
       "       ...,\n",
       "       [0., 0., 0., ..., 1., 0., 0.],\n",
       "       [0., 0., 0., ..., 0., 0., 0.],\n",
       "       [0., 0., 0., ..., 0., 0., 0.]])"
      ]
     },
     "execution_count": 229,
     "metadata": {},
     "output_type": "execute_result"
    }
   ],
   "source": [
    "labels_train"
   ]
  },
  {
   "cell_type": "code",
   "execution_count": null,
   "id": "42c993a8",
   "metadata": {},
   "outputs": [],
   "source": []
  }
 ],
 "metadata": {
  "kernelspec": {
   "display_name": "Python 3 (ipykernel)",
   "language": "python",
   "name": "python3"
  },
  "language_info": {
   "codemirror_mode": {
    "name": "ipython",
    "version": 3
   },
   "file_extension": ".py",
   "mimetype": "text/x-python",
   "name": "python",
   "nbconvert_exporter": "python",
   "pygments_lexer": "ipython3",
   "version": "3.9.2"
  }
 },
 "nbformat": 4,
 "nbformat_minor": 5
}
